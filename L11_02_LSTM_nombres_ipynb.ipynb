{
  "nbformat": 4,
  "nbformat_minor": 0,
  "metadata": {
    "colab": {
      "provenance": [],
      "include_colab_link": true
    },
    "kernelspec": {
      "name": "python3",
      "display_name": "Python 3"
    },
    "accelerator": "TPU"
  },
  "cells": [
    {
      "cell_type": "markdown",
      "metadata": {
        "id": "view-in-github",
        "colab_type": "text"
      },
      "source": [
        "<a href=\"https://colab.research.google.com/github/Dr-Carlos-Villasenor/Clase_Aprendizaje_Profundo/blob/main/L11_02_LSTM_nombres_ipynb.ipynb\" target=\"_parent\"><img src=\"https://colab.research.google.com/assets/colab-badge.svg\" alt=\"Open In Colab\"/></a>"
      ]
    },
    {
      "cell_type": "markdown",
      "metadata": {
        "id": "NyrN3A9os6_x"
      },
      "source": [
        "# Aprendizaje profundo\n",
        "##Dr. Carlos Villaseñor\n",
        "### Practica de generación de nombres con LSTM\n"
      ]
    },
    {
      "cell_type": "markdown",
      "metadata": {
        "id": "xCN8Gj6_xO8m"
      },
      "source": [
        "Primeramente importamos las paqueterias necesarias"
      ]
    },
    {
      "cell_type": "code",
      "metadata": {
        "id": "xM2fchEuNu1Q"
      },
      "source": [
        "import numpy as np\n",
        "from tensorflow import keras\n",
        "from keras.models import Sequential\n",
        "from keras.layers import Dense, Dropout, LSTM\n",
        "from keras.utils import np_utils"
      ],
      "execution_count": null,
      "outputs": []
    },
    {
      "cell_type": "markdown",
      "metadata": {
        "id": "i0DPLP8gDoKm"
      },
      "source": [
        "Vamos a abrir el archivo con conmbres y limpar un poco los datos"
      ]
    },
    {
      "cell_type": "code",
      "metadata": {
        "id": "f2cYzH68PdzN"
      },
      "source": [
        "text = open('names.txt').read()\n",
        "text = text.lower()\n",
        "names = text.split('\\n')\n",
        "names = list(filter(lambda name: ' ' not in name, names))\n",
        "names = list(filter(lambda name: '-' not in name, names))\n",
        "names = list(filter(lambda name: \"'\" not in name, names))\n",
        "names = [name + '.' for name in names]\n",
        "names = np.random.permutation(names)\n",
        "print(names)"
      ],
      "execution_count": null,
      "outputs": []
    },
    {
      "cell_type": "markdown",
      "metadata": {
        "id": "9s6SRyqzxlXo"
      },
      "source": [
        "Vamos a crear un diccionario que con el cual podamos mapear de caracteres a números"
      ]
    },
    {
      "cell_type": "code",
      "metadata": {
        "id": "gu1L3wJDW7ME"
      },
      "source": [
        "char_to_index = dict( (chr(i+96), i) for i in range(1,27))\n",
        "char_to_index[' '] = 0\n",
        "char_to_index['.'] = 27\n",
        "print(char_to_index)"
      ],
      "execution_count": null,
      "outputs": []
    },
    {
      "cell_type": "markdown",
      "metadata": {
        "id": "-NkbMrURxuPp"
      },
      "source": [
        "También necesitaremos el mapeo inverso"
      ]
    },
    {
      "cell_type": "code",
      "metadata": {
        "id": "IMYPBxBnXFAG"
      },
      "source": [
        "index_to_char = dict( (i, chr(i+96)) for i in range(1,27))\n",
        "index_to_char[0] = ' '\n",
        "index_to_char[27] = '.'\n",
        "print(index_to_char)"
      ],
      "execution_count": null,
      "outputs": []
    },
    {
      "cell_type": "markdown",
      "metadata": {
        "id": "Ip0pl9vVxx0X"
      },
      "source": [
        "Calculemos el número de nombres y el tamaño máximo que un nombre puede tener"
      ]
    },
    {
      "cell_type": "code",
      "metadata": {
        "id": "Vwv9oeQeXVlB"
      },
      "source": [
        "num_names = len(names)\n",
        "max_name_size = len(max(names, key=len))\n",
        "num_chars = len(char_to_index)\n",
        "print(max_name_size)"
      ],
      "execution_count": null,
      "outputs": []
    },
    {
      "cell_type": "markdown",
      "metadata": {
        "id": "7RCINyB0x9qo"
      },
      "source": [
        "Vamos a códificar todos los nombres y a crear un dataset con los nombres y su retardo"
      ]
    },
    {
      "cell_type": "code",
      "metadata": {
        "id": "4e4plHOEX-5H"
      },
      "source": [
        "x = np.zeros((num_names, max_name_size, num_chars))\n",
        "y = np.zeros((num_names, max_name_size, num_chars))\n",
        "print(x.shape)\n",
        "\n",
        "for i, name in enumerate(names):\n",
        "  for j, c in enumerate(name):\n",
        "    x[i, j, char_to_index[name[j]]] = 1\n",
        "    if j < len(name)-1:\n",
        "      y[i, j, char_to_index[name[j+1]]] = 1"
      ],
      "execution_count": null,
      "outputs": []
    },
    {
      "cell_type": "markdown",
      "metadata": {
        "id": "fJFEO7izyFiX"
      },
      "source": [
        "Intanciamos nuestra red recurrente LSTM"
      ]
    },
    {
      "cell_type": "code",
      "metadata": {
        "id": "FaC03d4TZcCP"
      },
      "source": [
        "model = Sequential()\n",
        "model.add(LSTM(128, input_shape=(max_name_size, num_chars),return_sequences=True))\n",
        "model.add(Dropout(0.25))\n",
        "model.add(Dense(num_chars, activation='softmax'))\n",
        "\n",
        "model.compile(loss='categorical_crossentropy', optimizer='adam',\n",
        "              metrics=['acc'])\n",
        "model.summary()"
      ],
      "execution_count": null,
      "outputs": []
    },
    {
      "cell_type": "markdown",
      "metadata": {
        "id": "neQ1MaTQyJqM"
      },
      "source": [
        "Momento de entrenar!!"
      ]
    },
    {
      "cell_type": "code",
      "metadata": {
        "id": "Pp1uEp1jaR9t"
      },
      "source": [
        "model.fit(x, y, batch_size=512, epochs=200)"
      ],
      "execution_count": null,
      "outputs": []
    },
    {
      "cell_type": "markdown",
      "metadata": {
        "id": "08294VgKyOSc"
      },
      "source": [
        "El modelo está entrenado, pero ¿Cómo generamos nombres?!!\n",
        "\n",
        "Para esto está el código siguiente!!\n"
      ]
    },
    {
      "cell_type": "code",
      "metadata": {
        "id": "u1JqbJJ2fA5R"
      },
      "source": [
        "# Correr un ejemplo\n",
        "name = ''\n",
        "x = np.zeros((1,max_name_size, num_chars))\n",
        "first = True\n",
        "end = False\n",
        "i = 0\n",
        "while end==False:\n",
        "  if first == True:\n",
        "    probs = list(model.predict(x, verbose=0)[0,i])[1:-1]\n",
        "    probs = probs/ np.sum(probs)\n",
        "    index = np.random.choice(range(1,num_chars-1),p=probs)\n",
        "    first = False\n",
        "  else:\n",
        "    probs = list(model.predict(x, verbose=0)[0,i])\n",
        "    probs = probs/ np.sum(probs)\n",
        "    index = np.random.choice(range(num_chars),p=probs)\n",
        "  if i == max_name_size-1:\n",
        "    break\n",
        "    character = '.'\n",
        "    end = True\n",
        "  else:\n",
        "    character = index_to_char[index]\n",
        "  name += character\n",
        "  x[0, i+1, index] = 1\n",
        "  i += 1\n",
        "  if character == '.':\n",
        "    end = True\n",
        "\n",
        "print(name.capitalize())\n",
        "print('Memorized: ', name in names)"
      ],
      "execution_count": null,
      "outputs": []
    }
  ]
}