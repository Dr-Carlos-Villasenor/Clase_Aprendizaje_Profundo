{
  "nbformat": 4,
  "nbformat_minor": 0,
  "metadata": {
    "colab": {
      "provenance": [],
      "name": "L12_01_RBF_NN.ipynb",
      "authorship_tag": "ABX9TyNIMr7n33iC8JeAqPkL1zLp",
      "include_colab_link": true
    },
    "kernelspec": {
      "name": "python3",
      "display_name": "Python 3"
    },
    "language_info": {
      "name": "python"
    }
  },
  "cells": [
    {
      "cell_type": "markdown",
      "metadata": {
        "id": "view-in-github",
        "colab_type": "text"
      },
      "source": [
        "<a href=\"https://colab.research.google.com/github/Dr-Carlos-Villasenor/Clase_Aprendizaje_Profundo/blob/main/L12_01_RBF_NN.ipynb\" target=\"_parent\"><img src=\"https://colab.research.google.com/assets/colab-badge.svg\" alt=\"Open In Colab\"/></a>"
      ]
    },
    {
      "cell_type": "markdown",
      "source": [
        "# Deep Learning\n",
        "## Dr. Carlos Vilaseñor\n",
        "## Red RBF-NN"
      ],
      "metadata": {
        "id": "8aCLZSZ3QZfC"
      }
    },
    {
      "cell_type": "markdown",
      "source": [
        "1. Importamos la paquetería necesaria"
      ],
      "metadata": {
        "id": "_fJN_OjtQm93"
      }
    },
    {
      "cell_type": "code",
      "source": [
        "# Importar paquetes\n",
        "import numpy as np\n",
        "import matplotlib.pyplot as plt\n",
        "\n",
        "# Paqueterias de ayuda para la RBF\n",
        "from scipy.spatial import distance\n",
        "from sklearn.cluster import KMeans\n",
        "\n",
        "# Paqueterías para crear datasets de prueba\n",
        "from sklearn.datasets import make_moons\n",
        "from sklearn.preprocessing import OneHotEncoder"
      ],
      "metadata": {
        "id": "gPhW-p2kQho2"
      },
      "execution_count": null,
      "outputs": []
    },
    {
      "cell_type": "markdown",
      "source": [
        "2. Creamos la clase de la red neuronal RBF-NN"
      ],
      "metadata": {
        "id": "sjIeGPgvQre3"
      }
    },
    {
      "cell_type": "code",
      "execution_count": null,
      "metadata": {
        "id": "cxWZGtWfQJnZ"
      },
      "outputs": [],
      "source": [
        "class RBFNN:\n",
        "    \"\"\"\n",
        "        Radial Basis Function Neural Network\n",
        "    \"\"\"\n",
        "\n",
        "    def __init__(self, n_hidden):\n",
        "        self.nh = n_hidden\n",
        "\n",
        "    def predict(self, X):\n",
        "        G = np.exp(-(distance.cdist(X, self.C)**2) / self.sigma)\n",
        "        return G.dot(self.w)\n",
        "\n",
        "    def predict_class(self, X):\n",
        "        G = np.exp(-(distance.cdist(X, self.C)**2) / self.sigma)\n",
        "        return np.argmax(G.dot(self.w), axis=1)\n",
        "\n",
        "    def train(self, X, Y):\n",
        "        self.ni, self.no = X.shape[1], Y.shape[1]\n",
        "        km = KMeans(n_clusters=self.nh).fit(X)\n",
        "        self.C =  km.cluster_centers_\n",
        "        self.sigma = (self.C.max() - self.C.min()) / np.sqrt(2*self.nh)\n",
        "        G = np.exp(-(distance.cdist(X, self.C)**2) / self.sigma)\n",
        "        self.w = np.linalg.pinv(G) @ Y"
      ]
    },
    {
      "cell_type": "markdown",
      "source": [
        "# Regresión"
      ],
      "metadata": {
        "id": "XdEUW91jQwaI"
      }
    },
    {
      "cell_type": "markdown",
      "source": [
        "3. Define el número de muestras del problema"
      ],
      "metadata": {
        "id": "rzHxf3lQRvyF"
      }
    },
    {
      "cell_type": "code",
      "source": [
        "# número de muestras\n",
        "p = 700"
      ],
      "metadata": {
        "id": "1EATnzHzRBHQ"
      },
      "execution_count": null,
      "outputs": []
    },
    {
      "cell_type": "markdown",
      "source": [
        "4. De los siguientes dos bloques solo corre uno para definir el problema"
      ],
      "metadata": {
        "id": "mP2222XNR0qu"
      }
    },
    {
      "cell_type": "code",
      "source": [
        "# Problema 1\n",
        "xl = -5\n",
        "xu = 5\n",
        "x = np.linspace(xl, xu, p).reshape(-1, 1)\n",
        "y = 2 * np.cos(x) + np.sin(3*x) + 5 + 0.2*np.random.randn(*x.shape)"
      ],
      "metadata": {
        "id": "cEA69jeuRE33"
      },
      "execution_count": null,
      "outputs": []
    },
    {
      "cell_type": "code",
      "source": [
        "# Problema 2\n",
        "xl = 0\n",
        "xu = 10\n",
        "x = np.linspace(xl, xu, p).reshape(-1, 1)\n",
        "y = (0.1 * x - 0.5) * np.sin( 1 / (0.1 * x - 0.5))"
      ],
      "metadata": {
        "id": "X7YVORI9RG17"
      },
      "execution_count": null,
      "outputs": []
    },
    {
      "cell_type": "markdown",
      "source": [
        "5. Crea y entrena tu red neuronal"
      ],
      "metadata": {
        "id": "wGshHDX8R5Ok"
      }
    },
    {
      "cell_type": "code",
      "source": [
        "# Crear y entrenar red\n",
        "neurons = 2\n",
        "net = RBFNN(neurons)\n",
        "net.train(x, y)"
      ],
      "metadata": {
        "id": "mR595qAJQmFC"
      },
      "execution_count": null,
      "outputs": []
    },
    {
      "cell_type": "markdown",
      "source": [
        "6. Dibuja la respuesta de la red"
      ],
      "metadata": {
        "id": "FCGiS5qzSidK"
      }
    },
    {
      "cell_type": "code",
      "source": [
        "# Propagar la red\n",
        "xnew = np.linspace(xl, xu, 1000).reshape(-1,1)\n",
        "ynew = net.predict(xnew)\n",
        "\n",
        "# Dibujar puntos\n",
        "plt.plot(xnew, ynew, '-b', linewidth=3)\n",
        "plt.plot(x,y, '.r', linewidth=0.1)\n",
        "plt.show()"
      ],
      "metadata": {
        "id": "ULzOIcJrSh2C"
      },
      "execution_count": null,
      "outputs": []
    },
    {
      "cell_type": "markdown",
      "source": [
        "# Clasificación"
      ],
      "metadata": {
        "id": "StE-yVWjR9PS"
      }
    },
    {
      "cell_type": "markdown",
      "source": [
        "7. Define los parámetros del problema"
      ],
      "metadata": {
        "id": "kidFyT-bSXMF"
      }
    },
    {
      "cell_type": "code",
      "source": [
        "# número de muestras\n",
        "p = 700\n",
        "noise = 0.2"
      ],
      "metadata": {
        "id": "g4D2f07-SQmU"
      },
      "execution_count": null,
      "outputs": []
    },
    {
      "cell_type": "code",
      "source": [
        "x, y = make_moons(p, noise=noise)\n",
        "OHE = OneHotEncoder()\n",
        "y_encoded = OHE.fit_transform(y[:, None]).toarray()"
      ],
      "metadata": {
        "id": "mTA1Y8ALR-wU"
      },
      "execution_count": null,
      "outputs": []
    },
    {
      "cell_type": "markdown",
      "source": [
        "7. Crea la red y entrenala"
      ],
      "metadata": {
        "id": "t95J-QTSSbOC"
      }
    },
    {
      "cell_type": "code",
      "source": [
        "neurons = 2\n",
        "net = RBFNN(neurons)\n",
        "net.train(x, y_encoded)"
      ],
      "metadata": {
        "colab": {
          "base_uri": "https://localhost:8080/"
        },
        "id": "MnoFnTtqSa0Q",
        "outputId": "457000b1-b901-4343-f534-36368c05e743"
      },
      "execution_count": null,
      "outputs": [
        {
          "output_type": "stream",
          "name": "stderr",
          "text": [
            "/usr/local/lib/python3.10/dist-packages/sklearn/cluster/_kmeans.py:870: FutureWarning: The default value of `n_init` will change from 10 to 'auto' in 1.4. Set the value of `n_init` explicitly to suppress the warning\n",
            "  warnings.warn(\n"
          ]
        }
      ]
    },
    {
      "cell_type": "markdown",
      "source": [
        "8. Dibuja la respuesta de la red"
      ],
      "metadata": {
        "id": "rcCT7MBuSpc2"
      }
    },
    {
      "cell_type": "code",
      "source": [
        "plt.figure()\n",
        "plt.scatter(x[:,0], x[:,1], c=y, cmap=plt.cm.RdBu)\n",
        "xmin, ymin = np.min(x[:,0]) - 0.5, np.min(x[:,1]) - 0.5\n",
        "xmax, ymax = np.max(x[:,0]) + 0.5, np.max(x[:,1]) + 0.5\n",
        "xx, yy = np.meshgrid(np.linspace(xmin,xmax, 500),\n",
        "                     np.linspace(ymin,ymax, 500))\n",
        "\n",
        "data = np.concatenate((xx.ravel().reshape(-1,1),\n",
        "                       yy.ravel().reshape(-1,1)), axis=1)\n",
        "\n",
        "zz = net.predict_class(data)\n",
        "zz = zz.reshape(xx.shape)\n",
        "plt.contourf(xx,yy,zz, alpha=0.7, cmap=plt.cm.RdBu)\n",
        "plt.xlim([xmin,xmax])\n",
        "plt.ylim([ymin,ymax])\n",
        "plt.grid()\n",
        "plt.show()"
      ],
      "metadata": {
        "id": "Gg6VlfUfSosM"
      },
      "execution_count": null,
      "outputs": []
    }
  ]
}