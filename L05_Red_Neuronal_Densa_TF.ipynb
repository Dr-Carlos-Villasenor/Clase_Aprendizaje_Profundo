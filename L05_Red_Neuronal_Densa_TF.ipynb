{
  "nbformat": 4,
  "nbformat_minor": 0,
  "metadata": {
    "colab": {
      "provenance": [],
      "authorship_tag": "ABX9TyPnMxPa7MRxjtH0GGF8Qr0F",
      "include_colab_link": true
    },
    "kernelspec": {
      "name": "python3",
      "display_name": "Python 3"
    },
    "language_info": {
      "name": "python"
    }
  },
  "cells": [
    {
      "cell_type": "markdown",
      "metadata": {
        "id": "view-in-github",
        "colab_type": "text"
      },
      "source": [
        "<a href=\"https://colab.research.google.com/github/Dr-Carlos-Villasenor/Clase_Aprendizaje_Profundo/blob/main/L05_Red_Neuronal_Densa_TF.ipynb\" target=\"_parent\"><img src=\"https://colab.research.google.com/assets/colab-badge.svg\" alt=\"Open In Colab\"/></a>"
      ]
    },
    {
      "cell_type": "markdown",
      "source": [
        "# Red Neuronal Densa en TensorFlow\n",
        "## Dr. Carlos Villaseñor"
      ],
      "metadata": {
        "id": "OA2bDa4ZR5qJ"
      }
    },
    {
      "cell_type": "markdown",
      "source": [
        "Paso 1. Correr paqueterias"
      ],
      "metadata": {
        "id": "pXflGAH6SC_C"
      }
    },
    {
      "cell_type": "code",
      "source": [
        "# Paquetería básica\n",
        "import numpy as np\n",
        "import pandas as pd\n",
        "import matplotlib.pyplot as plt\n",
        "\n",
        "# Importamos Tensorflow y Keras\n",
        "import tensorflow as tf\n",
        "from tensorflow import keras\n",
        "\n",
        "# Usamos funcionalidades básicas de Sklearn\n",
        "from sklearn.model_selection import train_test_split\n",
        "from sklearn.preprocessing import StandardScaler"
      ],
      "metadata": {
        "id": "ckWvgWOJRp_-"
      },
      "execution_count": 4,
      "outputs": []
    },
    {
      "cell_type": "markdown",
      "source": [
        "Paso 2. Carga el archivo 'auto-mpg.csv' y haz la lectura con pandas"
      ],
      "metadata": {
        "id": "EbjVjdXsbz7w"
      }
    },
    {
      "cell_type": "code",
      "source": [
        "!wget 'https://github.com/Dr-Carlos-Villasenor/Clase_Aprendizaje_Profundo/raw/main/Datasets/auto-mpg.csv'"
      ],
      "metadata": {
        "id": "LExjehcb7iKs"
      },
      "execution_count": null,
      "outputs": []
    },
    {
      "cell_type": "code",
      "source": [
        "dataset = pd.read_csv('auto-mpg.csv')\n",
        "dataset.head()"
      ],
      "metadata": {
        "id": "7zFo1FFHbr2H"
      },
      "execution_count": null,
      "outputs": []
    },
    {
      "cell_type": "markdown",
      "source": [
        "Paso 3. Limpieza de los datos"
      ],
      "metadata": {
        "id": "_xXyQ5gx8sLH"
      }
    },
    {
      "cell_type": "code",
      "source": [
        "dataset.info()"
      ],
      "metadata": {
        "id": "Jt7ZIwgQ8t_x"
      },
      "execution_count": null,
      "outputs": []
    },
    {
      "cell_type": "code",
      "source": [
        "np.array(dataset.horsepower)"
      ],
      "metadata": {
        "id": "FeHVHM7r89WK"
      },
      "execution_count": null,
      "outputs": []
    },
    {
      "cell_type": "code",
      "source": [
        "dataset['horsepower'].replace('?', np.nan, inplace=True)\n",
        "np.array(dataset.horsepower)"
      ],
      "metadata": {
        "id": "jbzHoysX9lHj"
      },
      "execution_count": null,
      "outputs": []
    },
    {
      "cell_type": "code",
      "source": [
        "dataset = dataset.dropna()"
      ],
      "metadata": {
        "id": "rlHNf3jP881p"
      },
      "execution_count": 63,
      "outputs": []
    },
    {
      "cell_type": "markdown",
      "source": [
        "Paso 3. Revisar datos faltantes"
      ],
      "metadata": {
        "id": "Sl08EJPhcDY7"
      }
    },
    {
      "cell_type": "code",
      "source": [
        "dataset.isna().sum()"
      ],
      "metadata": {
        "id": "IBJOZ4TpcJxh"
      },
      "execution_count": null,
      "outputs": []
    },
    {
      "cell_type": "markdown",
      "source": [
        "Paso 6. Condificación one-hot a columnas del país"
      ],
      "metadata": {
        "id": "yBTGc24LcWUg"
      }
    },
    {
      "cell_type": "code",
      "source": [
        "origin = dataset.pop('origin')\n",
        "dataset['USA'] = (origin == 1)*1.0\n",
        "dataset['Europe'] = (origin == 2)*1.0\n",
        "dataset['Japan'] = (origin == 3)*1.0\n",
        "dataset.tail()"
      ],
      "metadata": {
        "id": "mai3WIvjceos"
      },
      "execution_count": null,
      "outputs": []
    },
    {
      "cell_type": "markdown",
      "source": [
        "Paso 7. Elige las variables de entrada y salida"
      ],
      "metadata": {
        "id": "iTgPuiGRcj68"
      }
    },
    {
      "cell_type": "code",
      "source": [
        "x = np.asanyarray(dataset.drop(columns=['mpg', 'car name']))\n",
        "y = np.asanyarray(dataset[['mpg']])\n",
        "x = StandardScaler().fit_transform(x)\n",
        "print(x.shape)\n",
        "print(y.shape)"
      ],
      "metadata": {
        "id": "VrIZydVsctDi"
      },
      "execution_count": null,
      "outputs": []
    },
    {
      "cell_type": "markdown",
      "source": [
        "Paso 8. Particiona el dataset"
      ],
      "metadata": {
        "id": "XDS6Y3kzcvey"
      }
    },
    {
      "cell_type": "code",
      "source": [
        "xtrain, xtest, ytrain, ytest = train_test_split(x, y, test_size=0.2)"
      ],
      "metadata": {
        "id": "qIzfIZA5c0Dw"
      },
      "execution_count": 68,
      "outputs": []
    },
    {
      "cell_type": "markdown",
      "source": [
        "Paso 9. Crea una red neuronal para aprender los datos. En este caso creamos la metrica de regresión R2,"
      ],
      "metadata": {
        "id": "aPeO7Sx3c43I"
      }
    },
    {
      "cell_type": "code",
      "source": [
        "from keras import backend as K\n",
        "\n",
        "def r2score(y_true, y_pred):\n",
        "    SS_res = K.sum(K.square(y_true - y_pred))\n",
        "    SS_tot = K.sum(K.square(y_true - K.mean(y_true)))\n",
        "    return 1 - SS_res / (SS_tot + K.epsilon())"
      ],
      "metadata": {
        "id": "Bm-Bv27hC5Mg"
      },
      "execution_count": 79,
      "outputs": []
    },
    {
      "cell_type": "code",
      "source": [
        "def build_model():\n",
        "\n",
        "  model = keras.Sequential()\n",
        "  model.add(keras.layers.Dense(128, activation='relu', input_shape=[x.shape[1]]))\n",
        "  model.add(keras.layers.Dropout(0.2))\n",
        "  model.add(keras.layers.Dense(32, activation='tanh'))\n",
        "  model.add(keras.layers.Dense(1, activation='linear'))\n",
        "\n",
        "  model.compile(loss='mean_squared_error',\n",
        "                optimizer=keras.optimizers.Adam(),\n",
        "                metrics=[keras.metrics.MAE, r2score])\n",
        "  return  model"
      ],
      "metadata": {
        "id": "lyqOvKe6c-hF"
      },
      "execution_count": 80,
      "outputs": []
    },
    {
      "cell_type": "code",
      "source": [
        "model = build_model()\n",
        "model.summary()"
      ],
      "metadata": {
        "id": "6GjGhqSodG2-"
      },
      "execution_count": null,
      "outputs": []
    },
    {
      "cell_type": "markdown",
      "source": [
        "Paso 10. Entrena la red neuronal"
      ],
      "metadata": {
        "id": "wP2b0dINdLrp"
      }
    },
    {
      "cell_type": "code",
      "source": [
        "history = model.fit(xtrain, ytrain,\n",
        "                    batch_size=150, epochs=3000,\n",
        "                    validation_data=(xtest, ytest), verbose=1)"
      ],
      "metadata": {
        "id": "mc64yAzwdQTz"
      },
      "execution_count": null,
      "outputs": []
    },
    {
      "cell_type": "markdown",
      "source": [
        "Paso 11. Dibuja las curvas de aprendizaje para un mejor diagnóstico del aprendizaje"
      ],
      "metadata": {
        "id": "LqX0YjwueCBw"
      }
    },
    {
      "cell_type": "code",
      "source": [
        "def plot_history(history):\n",
        "  hist = pd.DataFrame(history.history)\n",
        "  hist['epoch'] = history.epoch\n",
        "  plt.figure()\n",
        "  plt.subplot(121)\n",
        "  plt.title('Loss')\n",
        "  plt.xlabel('Epoch')\n",
        "  plt.ylabel('Loss')\n",
        "  plt.plot(hist['epoch'], hist['loss'],\n",
        "           label='Train')\n",
        "  plt.plot(hist['epoch'], hist['val_loss'],\n",
        "           label = 'Val')\n",
        "  plt.yscale('log')\n",
        "  plt.legend()\n",
        "\n",
        "  plt.subplot(122)\n",
        "  plt.title('R2 Score')\n",
        "  plt.xlabel('Epoch')\n",
        "  plt.ylabel('r2score')\n",
        "  plt.plot(hist['epoch'], hist['r2score'],\n",
        "           label='Train')\n",
        "  plt.plot(hist['epoch'], hist['val_r2score'],\n",
        "           label = 'Val')\n",
        "  plt.ylim([0,1])\n",
        "  plt.legend()\n",
        "\n",
        "plot_history(history)"
      ],
      "metadata": {
        "id": "qEPR2AkFeBNz"
      },
      "execution_count": null,
      "outputs": []
    },
    {
      "cell_type": "markdown",
      "source": [
        "Paso 12. Implementación de Eary Stopping como regulador"
      ],
      "metadata": {
        "id": "YwlydF57eSPn"
      }
    },
    {
      "cell_type": "code",
      "source": [
        "es = keras.callbacks.EarlyStopping(monitor='val_loss', mode='min', patience=20)\n",
        "model = build_model()\n",
        "history = model.fit(xtrain, ytrain,\n",
        "                    batch_size=150, epochs=3000,\n",
        "                    validation_data=(xtest, ytest),\n",
        "                    verbose=1, callbacks=[es])\n",
        "plot_history(history)"
      ],
      "metadata": {
        "id": "IePGJkn2eR2M"
      },
      "execution_count": null,
      "outputs": []
    }
  ]
}