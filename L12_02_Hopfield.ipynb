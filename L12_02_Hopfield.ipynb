{
  "nbformat": 4,
  "nbformat_minor": 0,
  "metadata": {
    "colab": {
      "provenance": [],
      "name": "L12_02_Hopfield.ipynb",
      "authorship_tag": "ABX9TyO9TlyRlPV/Wa2FlDJTEoV0",
      "include_colab_link": true
    },
    "kernelspec": {
      "name": "python3",
      "display_name": "Python 3"
    },
    "language_info": {
      "name": "python"
    }
  },
  "cells": [
    {
      "cell_type": "markdown",
      "metadata": {
        "id": "view-in-github",
        "colab_type": "text"
      },
      "source": [
        "<a href=\"https://colab.research.google.com/github/Dr-Carlos-Villasenor/Clase_Aprendizaje_Profundo/blob/main/L12_02_Hopfield.ipynb\" target=\"_parent\"><img src=\"https://colab.research.google.com/assets/colab-badge.svg\" alt=\"Open In Colab\"/></a>"
      ]
    },
    {
      "cell_type": "markdown",
      "source": [
        "# Deep Learning\n",
        "## Dr. Carlos Vilaseñor\n",
        "## Red de hopfield"
      ],
      "metadata": {
        "id": "mAvFm5jSTmBJ"
      }
    },
    {
      "cell_type": "markdown",
      "source": [
        "1. Cargamos la paquetería necesaria"
      ],
      "metadata": {
        "id": "Oe4N0eSmTwhz"
      }
    },
    {
      "cell_type": "code",
      "execution_count": null,
      "metadata": {
        "id": "MvNOsswyTlLR"
      },
      "outputs": [],
      "source": [
        "import pandas as pd\n",
        "import numpy as np\n",
        "import matplotlib.pyplot as plt"
      ]
    },
    {
      "cell_type": "markdown",
      "source": [
        "2. Creamos la clase que contiene la red neuronal y sus métodos de aprendizajhe"
      ],
      "metadata": {
        "id": "hwPQv13TT1h2"
      }
    },
    {
      "cell_type": "code",
      "source": [
        "class Hopfield:\n",
        "\n",
        "    def _hebbian(self, X):\n",
        "        n, p =  X.shape\n",
        "        self.W += (1/self.n) * X @ X.T\n",
        "        np.fill_diagonal(self.W, 0)\n",
        "\n",
        "    def _pseudoinverse(self, X):\n",
        "        n, p =  X.shape\n",
        "        self.W = X @ np.linalg.pinv(X)\n",
        "        np.fill_diagonal(self.W, 0)\n",
        "\n",
        "    def _storkey(self, X):\n",
        "        h = self.w @ X\n",
        "        self.W += (1/self.n) * (X @ X.T - X @ h.T + h @ X.T)\n",
        "        np.fill_diagonal(self.W, 0)\n",
        "\n",
        "\n",
        "    def __init__(self, neurons, mode='hebbian'):\n",
        "        self.n = neurons\n",
        "        self.W = np.zeros((self.n, self.n))\n",
        "\n",
        "        modes = {'hebbian': self._hebbian,\n",
        "                 'pinv': self._pseudoinverse,\n",
        "                 'storkey': self._storkey}\n",
        "\n",
        "        self.train = modes[mode]\n",
        "\n",
        "    def predict(self, X, iterations=1):\n",
        "        for i in range(iterations):\n",
        "            X = np.sign(self.W @ X)\n",
        "        return X"
      ],
      "metadata": {
        "id": "eIbqu9fKT7-l"
      },
      "execution_count": null,
      "outputs": []
    },
    {
      "cell_type": "markdown",
      "source": [
        "3. Cargamos datos"
      ],
      "metadata": {
        "id": "C1TgiCWZUBdO"
      }
    },
    {
      "cell_type": "code",
      "source": [
        "!wget \"https://raw.githubusercontent.com/Dr-Carlos-Villasenor/PatternRecognition/main/Dataset/numbers.csv\""
      ],
      "metadata": {
        "id": "2HrDAHNBUthW"
      },
      "execution_count": null,
      "outputs": []
    },
    {
      "cell_type": "code",
      "source": [
        "numbers = pd.read_csv('numbers.csv')\n",
        "names = numbers['class'].values\n",
        "numbers = numbers.values[:,:-1].T\n",
        "numbers = (numbers > 150) * 1 + (numbers <= 150) * -1"
      ],
      "metadata": {
        "id": "pREYD2KrUDPZ"
      },
      "execution_count": null,
      "outputs": []
    },
    {
      "cell_type": "markdown",
      "source": [
        "4. Intanciamos la red y la entrenamos"
      ],
      "metadata": {
        "id": "iBd73lRaUGMh"
      }
    },
    {
      "cell_type": "code",
      "source": [
        "net = Hopfield(784, mode='pinv')\n",
        "net.train(numbers)"
      ],
      "metadata": {
        "id": "Vb9SnPgRUIty"
      },
      "execution_count": null,
      "outputs": []
    },
    {
      "cell_type": "markdown",
      "source": [
        "5. Para probar el algoritmo usamos un digito."
      ],
      "metadata": {
        "id": "k9yHcmysUMXz"
      }
    },
    {
      "cell_type": "code",
      "source": [
        "digit= numbers[:, np.random.randint(10)].reshape((28,28))\n",
        "\n",
        "plt.figure(figsize=(28,28))\n",
        "plt.matshow(digit, cmap=plt.cm.gray)\n",
        "plt.axis('equal')"
      ],
      "metadata": {
        "id": "o3pbAk4mURS6"
      },
      "execution_count": null,
      "outputs": []
    },
    {
      "cell_type": "markdown",
      "source": [
        "6. Agregamos ruido al número"
      ],
      "metadata": {
        "id": "RBCyQh1fUUOY"
      }
    },
    {
      "cell_type": "code",
      "source": [
        "ruido = 0.3"
      ],
      "metadata": {
        "id": "Jo9_uvx5VKoM"
      },
      "execution_count": null,
      "outputs": []
    },
    {
      "cell_type": "code",
      "source": [
        "A = (np.random.rand(28,28) < ruido)\n",
        "A = (A*-1) + (1*A==False)\n",
        "d = digit * A\n",
        "plt.matshow(d, cmap=plt.cm.gray)"
      ],
      "metadata": {
        "id": "82h83o_dT_uu"
      },
      "execution_count": null,
      "outputs": []
    },
    {
      "cell_type": "markdown",
      "source": [
        "7. Usamos la red para ver si podemos recobrar el patrón"
      ],
      "metadata": {
        "id": "0AhlEmTcUlkg"
      }
    },
    {
      "cell_type": "code",
      "source": [
        "new = net.predict(d.reshape(-1,1), iterations=100)\n",
        "plt.matshow(new.reshape(28,28), cmap=plt.cm.gray)"
      ],
      "metadata": {
        "id": "MQTtnoUvUlBl"
      },
      "execution_count": null,
      "outputs": []
    }
  ]
}