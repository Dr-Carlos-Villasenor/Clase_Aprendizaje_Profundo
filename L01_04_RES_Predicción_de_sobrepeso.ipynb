{
  "nbformat": 4,
  "nbformat_minor": 0,
  "metadata": {
    "colab": {
      "provenance": [],
      "authorship_tag": "ABX9TyPgUobvfqd4Xrm/Q4lkRrL7",
      "include_colab_link": true
    },
    "kernelspec": {
      "name": "python3",
      "display_name": "Python 3"
    },
    "language_info": {
      "name": "python"
    }
  },
  "cells": [
    {
      "cell_type": "markdown",
      "metadata": {
        "id": "view-in-github",
        "colab_type": "text"
      },
      "source": [
        "<a href=\"https://colab.research.google.com/github/Dr-Carlos-Villasenor/Clase_Aprendizaje_Profundo/blob/main/L01_04_RES_Predicci%C3%B3n_de_sobrepeso.ipynb\" target=\"_parent\"><img src=\"https://colab.research.google.com/assets/colab-badge.svg\" alt=\"Open In Colab\"/></a>"
      ]
    },
    {
      "cell_type": "markdown",
      "source": [
        "# Predicción de sobrepeso con una neurona\n",
        "## Dr. Carlos Villaseñor"
      ],
      "metadata": {
        "id": "NwqTUWuxYMQg"
      }
    },
    {
      "cell_type": "markdown",
      "source": [
        "Paso 1. Corre la siguiente casilla para importar la paquetería necesaria."
      ],
      "metadata": {
        "id": "AhoJLbMxYVty"
      }
    },
    {
      "cell_type": "code",
      "source": [
        "import numpy as np\n",
        "import matplotlib.pyplot as plt"
      ],
      "metadata": {
        "id": "wKjED1KUYfRe"
      },
      "execution_count": 75,
      "outputs": []
    },
    {
      "cell_type": "markdown",
      "source": [
        "Paso 2. En la siguiente cassilla de código, pega toda la clase del Perceptron."
      ],
      "metadata": {
        "id": "eLLpPjoKYh1Q"
      }
    },
    {
      "cell_type": "code",
      "execution_count": 76,
      "metadata": {
        "id": "zShXwHkCOmEm"
      },
      "outputs": [],
      "source": [
        "class Perceptron:\n",
        "  def __init__(self, n_inputs, learning_rate):\n",
        "    self.w = - 1 + 2 * np.random.rand(n_inputs)\n",
        "    self.b = - 1 + 2 * np.random.rand()\n",
        "    self.eta = learning_rate\n",
        "\n",
        "  def predict(self, X):\n",
        "    _, p = X.shape\n",
        "    y_est = np.zeros(p)\n",
        "    for i in range(p):\n",
        "      y_est[i] = np.dot(self.w, X[:,i])+self.b\n",
        "      if y_est[i] >= 0:\n",
        "        y_est[i]=1\n",
        "      else:\n",
        "        y_est[i]=0\n",
        "    return y_est\n",
        "\n",
        "  def fit(self, X, Y, epochs=50):\n",
        "    _, p = X.shape\n",
        "    for _ in range(epochs):\n",
        "      for i in range(p):\n",
        "        y_est = self.predict(X[:,i].reshape(-1,1))\n",
        "        self.w += self.eta * (Y[i]-y_est) * X[:,i]\n",
        "        self.b += self.eta * (Y[i]-y_est)"
      ]
    },
    {
      "cell_type": "markdown",
      "source": [
        "Paso 3. Instancía la siguiente función para poder dibujar la línea que representa el Perceptrón."
      ],
      "metadata": {
        "id": "3zQjTYVXbHlG"
      }
    },
    {
      "cell_type": "code",
      "source": [
        "# Función para dibujar superficie de desición\n",
        "def draw_2d_percep(model, xmin, xmax):\n",
        "  w1, w2, b = model.w[0], model.w[1], model.b \n",
        "  plt.plot([xmin, xmax],[(1/w2)*(-w1*xmin-b),(1/w2)*(-w1*xmax-b)],'--k')"
      ],
      "metadata": {
        "id": "kALOGpgmmd7X"
      },
      "execution_count": 88,
      "outputs": []
    },
    {
      "cell_type": "markdown",
      "source": [
        "Paso 4. Completa el siguiente codigo para generar datos de personas con y sin sobrepeso. Considera a personas con un peso mínimo de 40Kg y un peso máximo de 120, de igual manera, una altura mínima de 1 metro y una máxima de 2.2 metros."
      ],
      "metadata": {
        "id": "vVdyJcRHo5PJ"
      }
    },
    {
      "cell_type": "code",
      "source": [
        "p = 100\n",
        "\n",
        "# Crear datos\n",
        "X = np.zeros((2,p))\n",
        "Y = np.zeros(p)\n",
        "for i in range(p):\n",
        "  # masa aleatoria\n",
        "  X[0,i] = -40 + (120+40) * np.random.rand()\n",
        "\n",
        "  # estatura aleatoria\n",
        "  X[1,i] = -1 + (2.2+1) * np.random.rand()\n",
        "\n",
        "  imc = X[0,i] / X[1,i]**2\n",
        "\n",
        "  if imc >= 25:\n",
        "    Y[i]=1\n",
        "  else:\n",
        "    Y[i]=0"
      ],
      "metadata": {
        "id": "tZlFRTcCpd1J"
      },
      "execution_count": 113,
      "outputs": []
    },
    {
      "cell_type": "markdown",
      "source": [
        "Paso 5. Entrena el modelo y dibuja los resultados"
      ],
      "metadata": {
        "id": "iMrnL9uvmz2J"
      }
    },
    {
      "cell_type": "code",
      "source": [
        "# Crear y entrenar modelo\n",
        "model = Perceptron(2, 0.1)\n",
        "model.fit(X, Y, epochs=20)\n",
        "\n",
        "# Dibujar resultados\n",
        "plt.figure()\n",
        "for i in range(p):\n",
        "  if Y[i] == 0:\n",
        "    plt.plot(X[0,i],X[1,i], 'or')\n",
        "  else:\n",
        "    plt.plot(X[0,i],X[1,i], 'ob')\n",
        "\n",
        "plt.title('Compuerta AND')\n",
        "plt.grid('on')\n",
        "plt.xlabel(r'$x_1$')\n",
        "plt.ylabel(r'$x_2$')\n",
        "\n",
        "draw_2d_percep(model, -40, 120)"
      ],
      "metadata": {
        "colab": {
          "base_uri": "https://localhost:8080/",
          "height": 297
        },
        "id": "vi5YcKTmp-8Y",
        "outputId": "5c34dba2-e4a9-4a0a-fec6-5d6cb20a83be"
      },
      "execution_count": 115,
      "outputs": [
        {
          "output_type": "display_data",
          "data": {
            "text/plain": [
              "<Figure size 432x288 with 1 Axes>"
            ],
            "image/png": "[encoded data removed]"
          },
          "metadata": {
            "needs_background": "light"
          }
        }
      ]
    },
    {
      "cell_type": "markdown",
      "source": [
        "Paso 6. Repite el paso anterior pero ahora normaliza los datos"
      ],
      "metadata": {
        "id": "GsgmBu1BnJMh"
      }
    },
    {
      "cell_type": "code",
      "source": [
        "# Normalizat datos\n",
        "X[0,:] = (X[0,:]-X[0,:].min())/(X[0,:].max()-X[0,:].min())\n",
        "X[1,:] = (X[1,:]-X[1,:].min())/(X[1,:].max()-X[1,:].min())\n",
        "\n",
        "# Crear y entrenar modelo\n",
        "model = Perceptron(2, 0.1)\n",
        "model.fit(X, Y, epochs=20)\n",
        "\n",
        "# Dibujar resultados\n",
        "plt.figure()\n",
        "for i in range(p):\n",
        "  if Y[i] == 0:\n",
        "    plt.plot(X[0,i],X[1,i], 'or')\n",
        "  else:\n",
        "    plt.plot(X[0,i],X[1,i], 'ob')\n",
        "\n",
        "plt.title('Compuerta AND')\n",
        "plt.grid('on')\n",
        "plt.xlabel(r'$x_1$')\n",
        "plt.ylabel(r'$x_2$')\n",
        "\n",
        "draw_2d_percep(model, 0, 1)"
      ],
      "metadata": {
        "colab": {
          "base_uri": "https://localhost:8080/",
          "height": 297
        },
        "id": "8YWVcYz7reg_",
        "outputId": "38cf11eb-54f6-491e-a240-0b05ba9a60cd"
      },
      "execution_count": 118,
      "outputs": [
        {
          "output_type": "display_data",
          "data": {
            "text/plain": [
              "<Figure size 432x288 with 1 Axes>"
            ],
            "image/png": "[encoded data removed]"
          },
          "metadata": {
            "needs_background": "light"
          }
        }
      ]
    }
  ]
}