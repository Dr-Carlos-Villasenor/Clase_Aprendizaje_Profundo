{
  "nbformat": 4,
  "nbformat_minor": 0,
  "metadata": {
    "colab": {
      "provenance": [],
      "include_colab_link": true
    },
    "kernelspec": {
      "name": "python3",
      "display_name": "Python 3"
    },
    "accelerator": "GPU"
  },
  "cells": [
    {
      "cell_type": "markdown",
      "metadata": {
        "id": "view-in-github",
        "colab_type": "text"
      },
      "source": [
        "<a href=\"https://colab.research.google.com/github/Dr-Carlos-Villasenor/Clase_Aprendizaje_Profundo/blob/main/L08_transferencia_de_aprendizaje.ipynb\" target=\"_parent\"><img src=\"https://colab.research.google.com/assets/colab-badge.svg\" alt=\"Open In Colab\"/></a>"
      ]
    },
    {
      "cell_type": "markdown",
      "metadata": {
        "id": "4zp_0_xZvw4K"
      },
      "source": [
        "# Transferencia de aprendizaje\n",
        "## Dr. Carlos Villaseñor"
      ]
    },
    {
      "cell_type": "markdown",
      "metadata": {
        "id": "qMJem6ZuwknJ"
      },
      "source": [
        "Importar bibliotecas\n",
        "\n"
      ]
    },
    {
      "cell_type": "code",
      "metadata": {
        "id": "mtXnehErvsnR"
      },
      "source": [
        "# Bibliotecas básicas\n",
        "import pandas as pd\n",
        "import numpy as np\n",
        "import matplotlib.pyplot as plt\n",
        "import tensorflow as tf\n",
        "from tensorflow import keras"
      ],
      "execution_count": null,
      "outputs": []
    },
    {
      "cell_type": "code",
      "source": [
        "print(tf.__version__)"
      ],
      "metadata": {
        "id": "IGMxVLFtcyJB"
      },
      "execution_count": null,
      "outputs": []
    },
    {
      "cell_type": "markdown",
      "metadata": {
        "id": "shvPrpcuw43_"
      },
      "source": [
        "Importar MobileNet base pero descartaremos las últimas capa"
      ]
    },
    {
      "cell_type": "code",
      "metadata": {
        "id": "4Q6iGl62xPNJ"
      },
      "source": [
        "base_model = keras.applications.mobilenet.MobileNet(weights='imagenet',include_top=False)"
      ],
      "execution_count": null,
      "outputs": []
    },
    {
      "cell_type": "markdown",
      "metadata": {
        "id": "aCeLxtlEyCJV"
      },
      "source": [
        "Crear nueva Red Neuronal"
      ]
    },
    {
      "cell_type": "code",
      "metadata": {
        "id": "AYQX0UAbyHzA"
      },
      "source": [
        "x=base_model.output\n",
        "x=keras.layers.GlobalAveragePooling2D()(x)\n",
        "x=keras.layers.Dense(256,activation='relu')(x)\n",
        "x=keras.layers.Dense(64,activation='relu')(x)\n",
        "preds=keras.layers.Dense(3, activation='softmax')(x)"
      ],
      "execution_count": null,
      "outputs": []
    },
    {
      "cell_type": "markdown",
      "metadata": {
        "id": "b9fBbvIzzJG6"
      },
      "source": [
        "Pegar Redes Neuronales"
      ]
    },
    {
      "cell_type": "code",
      "metadata": {
        "id": "PkdA8UWWzSrS"
      },
      "source": [
        "model=keras.Model(inputs=base_model.input, outputs=preds)"
      ],
      "execution_count": null,
      "outputs": []
    },
    {
      "cell_type": "markdown",
      "metadata": {
        "id": "5Sg7ZRB0zq-i"
      },
      "source": [
        "Definir que capas se entrenan"
      ]
    },
    {
      "cell_type": "code",
      "metadata": {
        "id": "OGYwhdoFzqVk"
      },
      "source": [
        "for layer in model.layers[:-5]:\n",
        "    layer.trainable=False\n",
        "for layer in model.layers[-5:]:\n",
        "    layer.trainable=True"
      ],
      "execution_count": null,
      "outputs": []
    },
    {
      "cell_type": "markdown",
      "metadata": {
        "id": "4-39u5Pp1Lkj"
      },
      "source": [
        "Cargar datos nuevos\n",
        "\n",
        "- Carge el archivo 'train.zip' en la pestaña archivos en el lateral izquierdo\n",
        "- Corra la siguiente linea para descomprimir los archivos"
      ]
    },
    {
      "cell_type": "code",
      "source": [
        "!wget \"https://github.com/Dr-Carlos-Villasenor/Taller_CNN/raw/main/train.zip\""
      ],
      "metadata": {
        "id": "0QYdeEsZfmr2"
      },
      "execution_count": null,
      "outputs": []
    },
    {
      "cell_type": "code",
      "metadata": {
        "id": "fwbljBNp1hKK"
      },
      "source": [
        "!unzip train.zip"
      ],
      "execution_count": null,
      "outputs": []
    },
    {
      "cell_type": "markdown",
      "metadata": {
        "id": "qKTX6gWt14cy"
      },
      "source": [
        "Crear generador desde carpeta"
      ]
    },
    {
      "cell_type": "code",
      "metadata": {
        "id": "p7oy8_sZ2Mc-"
      },
      "source": [
        "train_datagen = keras.preprocessing.image.ImageDataGenerator(zoom_range=0.2,\n",
        "                                 horizontal_flip=True,\n",
        "                                 width_shift_range=0.2,\n",
        "                                 height_shift_range=0.2,\n",
        "                                 preprocessing_function=keras.applications.mobilenet.preprocess_input)\n",
        "\n",
        "train_generator=train_datagen.flow_from_directory('./train/',\n",
        "                                                 target_size=(224,224),\n",
        "                                                 color_mode='rgb',\n",
        "                                                 batch_size=32,\n",
        "                                                 class_mode='categorical',\n",
        "                                                 shuffle=True)"
      ],
      "execution_count": null,
      "outputs": []
    },
    {
      "cell_type": "markdown",
      "metadata": {
        "id": "F9zw5rV33psh"
      },
      "source": [
        "Compilar Modelo y entrenar desde carpeta"
      ]
    },
    {
      "cell_type": "code",
      "metadata": {
        "id": "efD515JO3zlL"
      },
      "source": [
        "model.compile(optimizer='Adam',loss='categorical_crossentropy',\n",
        "              metrics=['accuracy'])\n",
        "\n",
        "step_size_train=train_generator.n//train_generator.batch_size\n",
        "\n",
        "model.fit(train_generator,\n",
        "          steps_per_epoch=step_size_train,\n",
        "          epochs=6)"
      ],
      "execution_count": null,
      "outputs": []
    }
  ]
}