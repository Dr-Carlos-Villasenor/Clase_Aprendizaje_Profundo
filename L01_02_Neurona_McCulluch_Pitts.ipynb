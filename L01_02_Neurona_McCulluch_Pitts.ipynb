{
  "nbformat": 4,
  "nbformat_minor": 0,
  "metadata": {
    "colab": {
      "provenance": [],
      "authorship_tag": "ABX9TyPZ9ia0SfJaKmnk8ws+AQho",
      "include_colab_link": true
    },
    "kernelspec": {
      "name": "python3",
      "display_name": "Python 3"
    },
    "language_info": {
      "name": "python"
    }
  },
  "cells": [
    {
      "cell_type": "markdown",
      "metadata": {
        "id": "view-in-github",
        "colab_type": "text"
      },
      "source": [
        "<a href=\"https://colab.research.google.com/github/Dr-Carlos-Villasenor/Clase_Aprendizaje_Profundo/blob/main/L01_02_Neurona_McCulluch_Pitts.ipynb\" target=\"_parent\"><img src=\"https://colab.research.google.com/assets/colab-badge.svg\" alt=\"Open In Colab\"/></a>"
      ]
    },
    {
      "cell_type": "markdown",
      "source": [
        "# Neurona McCulluch y Pitts espacio geométrico\n",
        "## Dr. Carlos Villaseñor"
      ],
      "metadata": {
        "id": "NwqTUWuxYMQg"
      }
    },
    {
      "cell_type": "markdown",
      "source": [
        "Paso 1. Corre la siguiente casilla para importar la paquetería necesaria."
      ],
      "metadata": {
        "id": "AhoJLbMxYVty"
      }
    },
    {
      "cell_type": "code",
      "source": [
        "import numpy as np\n",
        "import matplotlib.pyplot as plt"
      ],
      "metadata": {
        "id": "wKjED1KUYfRe"
      },
      "execution_count": null,
      "outputs": []
    },
    {
      "cell_type": "markdown",
      "source": [
        "Paso 2. Crea una clase que represente a la neurona artificial, inicializa los pesos sinápticos y el sesgo de manera aleatoria uniformemente distribuida entre -1 y 1. Posteriormete programa una función que nos permita hacer la predicción de cada punto. Considera la abstracción presentada en la clase."
      ],
      "metadata": {
        "id": "eLLpPjoKYh1Q"
      }
    },
    {
      "cell_type": "code",
      "execution_count": null,
      "metadata": {
        "id": "zShXwHkCOmEm"
      },
      "outputs": [],
      "source": [
        "\n",
        "class Neurona:\n",
        "  def __init__(self, n_inputs):\n",
        "    # Inicializa de manera aleatoria los pesos sinápticos y sesgo de la neurona\n",
        "    self.w = \n",
        "    self.b = \n",
        "\n",
        "  def predict(self, X):\n",
        "    # Obtener numero de entradas\n",
        "    _, p = X.shape\n",
        "\n",
        "    # Instanciar salida\n",
        "    y_est = np.zeros(p)\n",
        "\n",
        "    for i in range(p):\n",
        "      # Programa aquí la propagaciónm de la neurona        \n",
        "    return y_est"
      ]
    },
    {
      "cell_type": "markdown",
      "source": [
        "Paso 3. Corre la siguiente función para dibujar el espacio geométrico de las dos clases."
      ],
      "metadata": {
        "id": "3zQjTYVXbHlG"
      }
    },
    {
      "cell_type": "code",
      "source": [
        "def neuron2D_random(X,Y,net):\n",
        "  # Instanciamos la neurona\n",
        "  net = Neurona(2)\n",
        "\n",
        "  # Preparar datos\n",
        "  xmin, ymin = -2, 2\n",
        "  xmax, ymax = -2, 2\n",
        "  xx, yy = np.meshgrid(np.linspace(xmin,xmax, 100), \n",
        "                       np.linspace(ymin,ymax, 100))\n",
        "  X = [xx.ravel(), yy.ravel()]\n",
        "\n",
        "  # Predecir cada punto\n",
        "  y_est = net.predict(X)\n",
        "  zz = zz.reshape(xx.shape)\n",
        "\n",
        "  # Dibujar\n",
        "  plt.figure()\n",
        "  plt.title('Espacio geométrico de la Neurona de McCulluch-Pitts')\n",
        "  plt.contour(xx,yy,zz,[0.5], colors='k',  linestyles='--', linewidths=2)\n",
        "  plt.contourf(xx,yy,zz, alpha=0.8, \n",
        "               cmap=plt.cm.RdBu)\n",
        "  plt.xlim([xmin,xmax])\n",
        "  plt.ylim([ymin,ymax])\n",
        "  plt.grid()\n",
        "  plt.show()   "
      ],
      "metadata": {
        "id": "xcAybgM7bGZp"
      },
      "execution_count": null,
      "outputs": []
    }
  ]
}