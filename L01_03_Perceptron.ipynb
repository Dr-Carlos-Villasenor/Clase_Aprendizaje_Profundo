{
  "nbformat": 4,
  "nbformat_minor": 0,
  "metadata": {
    "colab": {
      "provenance": [],
      "authorship_tag": "ABX9TyPXv9nlIfwdXNfqOgvXmpwB",
      "include_colab_link": true
    },
    "kernelspec": {
      "name": "python3",
      "display_name": "Python 3"
    },
    "language_info": {
      "name": "python"
    }
  },
  "cells": [
    {
      "cell_type": "markdown",
      "metadata": {
        "id": "view-in-github",
        "colab_type": "text"
      },
      "source": [
        "<a href=\"https://colab.research.google.com/github/Dr-Carlos-Villasenor/Clase_Aprendizaje_Profundo/blob/main/L01_03_Perceptron.ipynb\" target=\"_parent\"><img src=\"https://colab.research.google.com/assets/colab-badge.svg\" alt=\"Open In Colab\"/></a>"
      ]
    },
    {
      "cell_type": "markdown",
      "source": [
        "# El perceptrón y las compuertas lógicas\n",
        "## Dr. Carlos Villaseñor"
      ],
      "metadata": {
        "id": "NwqTUWuxYMQg"
      }
    },
    {
      "cell_type": "markdown",
      "source": [
        "Paso 1. Corre la siguiente casilla para importar la paquetería necesaria."
      ],
      "metadata": {
        "id": "AhoJLbMxYVty"
      }
    },
    {
      "cell_type": "code",
      "source": [
        "import numpy as np\n",
        "import matplotlib.pyplot as plt"
      ],
      "metadata": {
        "id": "wKjED1KUYfRe"
      },
      "execution_count": 1,
      "outputs": []
    },
    {
      "cell_type": "markdown",
      "source": [
        "Paso 2. Modifica la siguiente clase para que tenga un método de entrenamiento con el algoritmo del perceptrón."
      ],
      "metadata": {
        "id": "eLLpPjoKYh1Q"
      }
    },
    {
      "cell_type": "code",
      "execution_count": 67,
      "metadata": {
        "id": "zShXwHkCOmEm"
      },
      "outputs": [],
      "source": [
        "class Perceptron:\n",
        "\n",
        "  def __init__(self, n_inputs, learning_rate):\n",
        "    self.w = - 1 + 2 * np.random.rand(n_inputs)\n",
        "    self.b = - 1 + 2 * np.random.rand()\n",
        "    self.eta = learning_rate\n",
        "\n",
        "  def predict(self, X):\n",
        "    _, p = X.shape\n",
        "    y_est = np.zeros(p)\n",
        "    for i in range(p):\n",
        "      y_est[i] = np.dot(self.w, X[:,i])+self.b\n",
        "      if y_est[i] >= 0:\n",
        "        y_est[i]=1\n",
        "      else:\n",
        "        y_est[i]=0\n",
        "    return y_est\n",
        "\n",
        "  def fit(self, X, Y, epochs=50):\n",
        "    _, p = X.shape\n",
        "    for _ in range(epochs):\n",
        "      for i in range(p):\n",
        "        # Escribe las ecuaciones del perceptrón"
      ]
    },
    {
      "cell_type": "markdown",
      "source": [
        "Paso 3. Instancía la siguiente función para poder dibujar la línea que representa el Perceptrón."
      ],
      "metadata": {
        "id": "3zQjTYVXbHlG"
      }
    },
    {
      "cell_type": "code",
      "source": [
        "# Función para dibujar superficie de desición\n",
        "def draw_2d_percep(model):\n",
        "  w1, w2, b = model.w[0], model.w[1], model.b \n",
        "  plt.plot([-2, 2],[(1/w2)*(-w1*(-2)-b),(1/w2)*(-w1*2-b)],'--k')"
      ],
      "metadata": {
        "id": "kALOGpgmmd7X"
      },
      "execution_count": 68,
      "outputs": []
    },
    {
      "cell_type": "markdown",
      "source": [
        "Paso 4. Corre el siguiente código para comprobar que la neurona es capaz de aprender la compuerta OR"
      ],
      "metadata": {
        "id": "iMrnL9uvmz2J"
      }
    },
    {
      "cell_type": "code",
      "source": [
        "# Instanciar el modelo\n",
        "model = Perceptron(2, 0.1)\n",
        "\n",
        "# Datos\n",
        "X = np.array([[0, 0, 1, 1],\n",
        "              [0, 1, 0, 1]])\n",
        "Y = np.array( [0, 1, 1, 1])\n",
        "\n",
        "# Entrenar\n",
        "model.fit(X,Y)\n",
        "\n",
        "# Predicción\n",
        "model.predict(X)\n",
        "\n",
        "# Primero dibujemos los puntos\n",
        "_, p = X.shape\n",
        "for i in range(p):\n",
        "  if Y[i] == 0:\n",
        "    plt.plot(X[0,i],X[1,i], 'or')\n",
        "  else:\n",
        "    plt.plot(X[0,i],X[1,i], 'ob')\n",
        "\n",
        "plt.title('Perceptrón')\n",
        "plt.grid('on')\n",
        "plt.xlim([-2,2])\n",
        "plt.ylim([-2,2])\n",
        "plt.xlabel(r'x1')\n",
        "plt.ylabel(r'x2')\n",
        "\n",
        "draw_2d_percep(model)"
      ],
      "metadata": {
        "id": "FvpXhoe2msE6"
      },
      "execution_count": null,
      "outputs": []
    },
    {
      "cell_type": "markdown",
      "source": [
        "Paso 5. Realiza el paso anterior con pero con los datos de la compuerta AND y de la compuerta XOR"
      ],
      "metadata": {
        "id": "GsgmBu1BnJMh"
      }
    },
    {
      "cell_type": "markdown",
      "source": [
        "Paso 6. ¿Que diferencia puedes notar entre el aprendizaje de la compuerta AND y la compuerta XOR?: Escribe aquí tu respuesta"
      ],
      "metadata": {
        "id": "oYzR2HPTnhro"
      }
    },
    {
      "cell_type": "markdown",
      "source": [
        "Respuesta: "
      ],
      "metadata": {
        "id": "P9ck9xq8nwBx"
      }
    }
  ]
}