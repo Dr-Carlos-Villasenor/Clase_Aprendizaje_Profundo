{
  "nbformat": 4,
  "nbformat_minor": 0,
  "metadata": {
    "colab": {
      "provenance": [],
      "include_colab_link": true
    },
    "kernelspec": {
      "name": "python3",
      "display_name": "Python 3"
    },
    "accelerator": "GPU"
  },
  "cells": [
    {
      "cell_type": "markdown",
      "metadata": {
        "id": "view-in-github",
        "colab_type": "text"
      },
      "source": [
        "<a href=\"https://colab.research.google.com/github/Dr-Carlos-Villasenor/Clase_Aprendizaje_Profundo/blob/main/L08_Transferencia_de_Aprendizaje.ipynb\" target=\"_parent\"><img src=\"https://colab.research.google.com/assets/colab-badge.svg\" alt=\"Open In Colab\"/></a>"
      ]
    },
    {
      "cell_type": "markdown",
      "metadata": {
        "id": "4zp_0_xZvw4K"
      },
      "source": [
        "# Transferencia de aprendizaje\n",
        "## Dr. Carlos Villaseñor"
      ]
    },
    {
      "cell_type": "markdown",
      "metadata": {
        "id": "qMJem6ZuwknJ"
      },
      "source": [
        "Importar bibliotecas\n",
        "\n"
      ]
    },
    {
      "cell_type": "code",
      "metadata": {
        "id": "mtXnehErvsnR"
      },
      "source": [
        "import pandas as pd\n",
        "import numpy as np\n",
        "import os\n",
        "import keras\n",
        "import matplotlib.pyplot as plt\n",
        "from keras.layers import Dense,GlobalAveragePooling2D\n",
        "from keras.applications import MobileNet\n",
        "from keras.preprocessing import image\n",
        "from keras.applications.mobilenet import preprocess_input\n",
        "from keras.preprocessing.image import ImageDataGenerator\n",
        "from keras.models import Model\n",
        "from keras.optimizers import Adam"
      ],
      "execution_count": null,
      "outputs": []
    },
    {
      "cell_type": "markdown",
      "metadata": {
        "id": "shvPrpcuw43_"
      },
      "source": [
        "Importar MobileNet base pero descartaremos las últimas capa"
      ]
    },
    {
      "cell_type": "code",
      "metadata": {
        "id": "4Q6iGl62xPNJ"
      },
      "source": [
        "base_model=MobileNet(weights='imagenet',include_top=False)"
      ],
      "execution_count": null,
      "outputs": []
    },
    {
      "cell_type": "markdown",
      "metadata": {
        "id": "aCeLxtlEyCJV"
      },
      "source": [
        "Crear nueva Red Neuronal"
      ]
    },
    {
      "cell_type": "code",
      "metadata": {
        "id": "AYQX0UAbyHzA"
      },
      "source": [
        "x=base_model.output\n",
        "x=GlobalAveragePooling2D()(x)\n",
        "x=Dense(256,activation='relu')(x)\n",
        "x=Dense(64,activation='relu')(x)\n",
        "preds=Dense(3, activation='softmax')(x)"
      ],
      "execution_count": null,
      "outputs": []
    },
    {
      "cell_type": "markdown",
      "metadata": {
        "id": "b9fBbvIzzJG6"
      },
      "source": [
        "Pegar Redes Neuronales"
      ]
    },
    {
      "cell_type": "code",
      "metadata": {
        "id": "PkdA8UWWzSrS"
      },
      "source": [
        "model=Model(inputs=base_model.input, outputs=preds)"
      ],
      "execution_count": null,
      "outputs": []
    },
    {
      "cell_type": "markdown",
      "metadata": {
        "id": "5Sg7ZRB0zq-i"
      },
      "source": [
        "Definir que capas se entrenan"
      ]
    },
    {
      "cell_type": "code",
      "metadata": {
        "id": "OGYwhdoFzqVk"
      },
      "source": [
        "for layer in model.layers[:-5]:\n",
        "    layer.trainable=False\n",
        "for layer in model.layers[-5:]:\n",
        "    layer.trainable=True"
      ],
      "execution_count": null,
      "outputs": []
    },
    {
      "cell_type": "markdown",
      "metadata": {
        "id": "4-39u5Pp1Lkj"
      },
      "source": [
        "Cargar datos nuevos\n",
        "\n",
        "- Carge el archivo 'train.zip' en la pestaña archivos en el lateral izquierdo\n",
        "- Corra la siguiente linea para descomprimir los archivos"
      ]
    },
    {
      "cell_type": "code",
      "source": [
        "!wget \"https://github.com/Dr-Carlos-Villasenor/Taller_CNN/raw/main/train.zip\""
      ],
      "metadata": {
        "id": "0QYdeEsZfmr2"
      },
      "execution_count": null,
      "outputs": []
    },
    {
      "cell_type": "code",
      "metadata": {
        "id": "fwbljBNp1hKK"
      },
      "source": [
        "!unzip train.zip"
      ],
      "execution_count": null,
      "outputs": []
    },
    {
      "cell_type": "markdown",
      "metadata": {
        "id": "qKTX6gWt14cy"
      },
      "source": [
        "Crear generador desde carpeta"
      ]
    },
    {
      "cell_type": "code",
      "metadata": {
        "id": "p7oy8_sZ2Mc-"
      },
      "source": [
        "train_datagen=ImageDataGenerator(zoom_range=0.2, horizontal_flip=True,\n",
        "                                 width_shift_range=0.2,\n",
        "                                 height_shift_range=0.2,\n",
        "                                 preprocessing_function=preprocess_input)\n",
        "\n",
        "train_generator=train_datagen.flow_from_directory('./train/',\n",
        "                                                 target_size=(224,224),\n",
        "                                                 color_mode='rgb',\n",
        "                                                 batch_size=32,\n",
        "                                                 class_mode='categorical',\n",
        "                                                 shuffle=True)\n",
        "\n"
      ],
      "execution_count": null,
      "outputs": []
    },
    {
      "cell_type": "markdown",
      "metadata": {
        "id": "F9zw5rV33psh"
      },
      "source": [
        "Compilar Modelo y entrenar desde carpeta"
      ]
    },
    {
      "cell_type": "code",
      "metadata": {
        "id": "efD515JO3zlL"
      },
      "source": [
        "model.compile(optimizer='Adam',loss='categorical_crossentropy',\n",
        "              metrics=['accuracy'])\n",
        "\n",
        "step_size_train=train_generator.n//train_generator.batch_size\n",
        "\n",
        "model.fit(train_generator,\n",
        "          steps_per_epoch=step_size_train,\n",
        "          epochs=6)"
      ],
      "execution_count": null,
      "outputs": []
    }
  ]
}