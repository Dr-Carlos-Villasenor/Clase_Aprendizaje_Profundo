{
  "nbformat": 4,
  "nbformat_minor": 0,
  "metadata": {
    "colab": {
      "provenance": [],
      "include_colab_link": true
    },
    "kernelspec": {
      "name": "python3",
      "display_name": "Python 3"
    },
    "accelerator": "GPU"
  },
  "cells": [
    {
      "cell_type": "markdown",
      "metadata": {
        "id": "view-in-github",
        "colab_type": "text"
      },
      "source": [
        "<a href=\"https://colab.research.google.com/github/Dr-Carlos-Villasenor/Clase_Aprendizaje_Profundo/blob/main/L08_Transferencia_de_Aprendizaje.ipynb\" target=\"_parent\"><img src=\"https://colab.research.google.com/assets/colab-badge.svg\" alt=\"Open In Colab\"/></a>"
      ]
    },
    {
      "cell_type": "markdown",
      "metadata": {
        "id": "4zp_0_xZvw4K"
      },
      "source": [
        "# Transferencia de aprendizaje\n",
        "## Dr. Carlos Villaseñor"
      ]
    },
    {
      "cell_type": "markdown",
      "source": [
        "# Parte 1. Introducción a la transferencia de aprendizaje"
      ],
      "metadata": {
        "id": "IuUZcQRINGJx"
      }
    },
    {
      "cell_type": "markdown",
      "metadata": {
        "id": "qMJem6ZuwknJ"
      },
      "source": [
        "Importar bibliotecas\n",
        "\n"
      ]
    },
    {
      "cell_type": "code",
      "metadata": {
        "id": "mtXnehErvsnR"
      },
      "source": [
        "import pandas as pd\n",
        "import numpy as np\n",
        "from tensorflow import keras"
      ],
      "execution_count": null,
      "outputs": []
    },
    {
      "cell_type": "markdown",
      "metadata": {
        "id": "shvPrpcuw43_"
      },
      "source": [
        "Importar MobileNet base pero descartaremos las últimas capa\n",
        "(Revisa este [enlace](https://keras.io/api/applications/) )"
      ]
    },
    {
      "cell_type": "code",
      "metadata": {
        "id": "4Q6iGl62xPNJ"
      },
      "source": [
        "base_model = keras.applications.MobileNetV2(weights='imagenet',include_top=False)"
      ],
      "execution_count": null,
      "outputs": []
    },
    {
      "cell_type": "markdown",
      "metadata": {
        "id": "aCeLxtlEyCJV"
      },
      "source": [
        "Crear nueva Red Neuronal"
      ]
    },
    {
      "cell_type": "code",
      "metadata": {
        "id": "AYQX0UAbyHzA"
      },
      "source": [
        "x=base_model.output\n",
        "x=keras.layers.GlobalAveragePooling2D()(x)\n",
        "x=keras.layers.Dense(256,activation='relu')(x)\n",
        "x=keras.layers.Dense(64,activation='relu')(x)\n",
        "preds=keras.layers.Dense(3, activation='softmax')(x)"
      ],
      "execution_count": null,
      "outputs": []
    },
    {
      "cell_type": "markdown",
      "metadata": {
        "id": "b9fBbvIzzJG6"
      },
      "source": [
        "Pegar Redes Neuronales"
      ]
    },
    {
      "cell_type": "code",
      "metadata": {
        "id": "PkdA8UWWzSrS"
      },
      "source": [
        "model=keras.Model(inputs=base_model.input, outputs=preds)"
      ],
      "execution_count": null,
      "outputs": []
    },
    {
      "cell_type": "markdown",
      "metadata": {
        "id": "5Sg7ZRB0zq-i"
      },
      "source": [
        "Definir que capas se entrenan"
      ]
    },
    {
      "cell_type": "code",
      "metadata": {
        "id": "OGYwhdoFzqVk"
      },
      "source": [
        "freeze_point = 5\n",
        "for layer in model.layers[:-freeze_point]:\n",
        "    layer.trainable=False\n",
        "for layer in model.layers[-freeze_point:]:\n",
        "    layer.trainable=True"
      ],
      "execution_count": null,
      "outputs": []
    },
    {
      "cell_type": "markdown",
      "metadata": {
        "id": "4-39u5Pp1Lkj"
      },
      "source": [
        "Cargar datos nuevos\n",
        "\n",
        "- Carge el archivo 'train.zip' en la pestaña archivos en el lateral izquierdo\n",
        "- Corra la siguiente linea para descomprimir los archivos"
      ]
    },
    {
      "cell_type": "code",
      "source": [
        "!wget \"https://github.com/Dr-Carlos-Villasenor/Taller_CNN/raw/main/train.zip\""
      ],
      "metadata": {
        "id": "0QYdeEsZfmr2"
      },
      "execution_count": null,
      "outputs": []
    },
    {
      "cell_type": "code",
      "metadata": {
        "id": "fwbljBNp1hKK"
      },
      "source": [
        "!unzip train.zip"
      ],
      "execution_count": null,
      "outputs": []
    },
    {
      "cell_type": "markdown",
      "metadata": {
        "id": "qKTX6gWt14cy"
      },
      "source": [
        "Crear generador desde carpeta"
      ]
    },
    {
      "cell_type": "code",
      "metadata": {
        "id": "p7oy8_sZ2Mc-"
      },
      "source": [
        "from tensorflow.keras.preprocessing.image import ImageDataGenerator\n",
        "from tensorflow.keras.applications.mobilenet_v2 import preprocess_input\n",
        "\n",
        "train_datagen=ImageDataGenerator(zoom_range=0.2, horizontal_flip=True,\n",
        "                                 width_shift_range=0.2,\n",
        "                                 height_shift_range=0.2,\n",
        "                                 preprocessing_function=preprocess_input)\n",
        "\n",
        "train_generator=train_datagen.flow_from_directory('./train/',\n",
        "                                                 target_size=(224,224),\n",
        "                                                 color_mode='rgb',\n",
        "                                                 batch_size=32,\n",
        "                                                 class_mode='categorical',\n",
        "                                                 shuffle=True)"
      ],
      "execution_count": null,
      "outputs": []
    },
    {
      "cell_type": "markdown",
      "metadata": {
        "id": "F9zw5rV33psh"
      },
      "source": [
        "Compilar Modelo y entrenar desde carpeta"
      ]
    },
    {
      "cell_type": "code",
      "metadata": {
        "id": "efD515JO3zlL"
      },
      "source": [
        "model.compile(optimizer='Adam',loss='categorical_crossentropy',\n",
        "              metrics=['accuracy'])\n",
        "\n",
        "step_size_train=train_generator.n//train_generator.batch_size\n",
        "\n",
        "model.fit(train_generator,\n",
        "          steps_per_epoch=step_size_train,\n",
        "          epochs=6)"
      ],
      "execution_count": null,
      "outputs": []
    },
    {
      "cell_type": "markdown",
      "source": [
        "# Parte 2 Tarea\n",
        "El código anterior se demuestra como podemos hacer Deep Learning incluso teniendo pocos datos, gracias a que el modelo está preentrenado.\n",
        "\n",
        "Sin embargo hay algunos pasos mal en el código anterior."
      ],
      "metadata": {
        "id": "aZ3NnIMDM6Na"
      }
    },
    {
      "cell_type": "markdown",
      "source": [
        "Paso 1 Dataset: Para completar esta actividad primeramente mejoraremos el dataset anterior. Para eso elabora lo siguiente:\n",
        "\n",
        "* Descarga la carpeta de entrenamiento,\n",
        "* Elige dos clases nuevas de tu preferencia (e.g.: humanos, lobos, mariposas etc..),\n",
        "* Genera otra carpeta llamada 'test',\n",
        "* Dentro de las carpetas 'train' y 'test' crea las carpetas para las 5 clases.\n",
        "* Asegurate de que por lo menos en cada subcarpeta de 'train' tengas 50 muestras.\n",
        "* Asegurate de que por lo menos cada subcarpeta de 'test' tenga al menos 15 muestras.\n",
        "* Carga las carpetas a tu colab para trabajar con ellas."
      ],
      "metadata": {
        "id": "RHTohTJUNj4C"
      }
    },
    {
      "cell_type": "markdown",
      "source": [
        "Paso 2 Entrenamiento: Ahora bien modificaremos el código de este libro de colab para trabajar con el data set nuevo. Para que sea metodologicamente correcto haz lo siguiente:\n",
        "\n",
        "* Modifica el bloque de image data generator, ya que necesitamos uno más para la carpeta 'test', con lo que tendras un 'test_datagen' y un 'test_generator'.\n",
        "Por ejemplo:"
      ],
      "metadata": {
        "id": "PReCQt3gPay9"
      }
    },
    {
      "cell_type": "code",
      "source": [
        "test_datagen = ImageDataGenerator(rescale=1./255)\n",
        "\n",
        "test_generator = test_datagen.flow_from_directory(\n",
        "        'test',\n",
        "        target_size=(224, 224),\n",
        "        batch_size = 15*5,\n",
        "        class_mode='categorical')"
      ],
      "metadata": {
        "id": "QDzAOH19RJnh"
      },
      "execution_count": null,
      "outputs": []
    },
    {
      "cell_type": "markdown",
      "source": [
        "* Modifica la salida de la red para tenga 5 neuronas en su última capa (una por cada clase). Por ejemplo:\n"
      ],
      "metadata": {
        "id": "OHGQLz1xRPLT"
      }
    },
    {
      "cell_type": "code",
      "source": [
        "preds=keras.layers.Dense(5, activation='softmax')(x)"
      ],
      "metadata": {
        "id": "JUnw5Yo3RXH_"
      },
      "execution_count": null,
      "outputs": []
    },
    {
      "cell_type": "markdown",
      "source": [
        "* Reentrena tu red, usa los datos del test como conjunto de validación, por ejemplo:"
      ],
      "metadata": {
        "id": "uQ_6GhqSRSjS"
      }
    },
    {
      "cell_type": "code",
      "source": [
        "model.fit_generator(\n",
        "        train_generator,\n",
        "        steps_per_epoch=120,\n",
        "        epochs=20,\n",
        "        validation_data=validation_generator,\n",
        "        validation_steps=800 // batch_size)"
      ],
      "metadata": {
        "id": "5aQkPnExRiVX"
      },
      "execution_count": null,
      "outputs": []
    },
    {
      "cell_type": "markdown",
      "source": [
        "* Modifica tu red paera obtener un buen desempeño (que no esté sobreentrenada ni subentrenada).\n",
        "* Obtene la matriz de confusión del conjunto de 'test'."
      ],
      "metadata": {
        "id": "mAYai0IwRqy7"
      }
    }
  ]
}