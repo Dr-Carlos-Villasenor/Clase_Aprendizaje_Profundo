{
  "nbformat": 4,
  "nbformat_minor": 0,
  "metadata": {
    "colab": {
      "provenance": [],
      "authorship_tag": "ABX9TyPuGblHYPxa/WUcyCri+NlF",
      "include_colab_link": true
    },
    "kernelspec": {
      "name": "python3",
      "display_name": "Python 3"
    },
    "accelerator": "GPU",
    "gpuClass": "standard"
  },
  "cells": [
    {
      "cell_type": "markdown",
      "metadata": {
        "id": "view-in-github",
        "colab_type": "text"
      },
      "source": [
        "<a href=\"https://colab.research.google.com/github/Dr-Carlos-Villasenor/Clase_Aprendizaje_Profundo/blob/main/L11_01_Autoresgresor.ipynb\" target=\"_parent\"><img src=\"https://colab.research.google.com/assets/colab-badge.svg\" alt=\"Open In Colab\"/></a>"
      ]
    },
    {
      "cell_type": "markdown",
      "metadata": {
        "id": "sFv8P5j4oy_d"
      },
      "source": [
        "# Aprendizaje profundo\n",
        "##Dr. Carlos Villaseñor\n",
        "### Modelo autoregresivo de series de tiempo\n"
      ]
    },
    {
      "cell_type": "markdown",
      "source": [
        "Paso 1. Cargar las siguientes bibliotecas"
      ],
      "metadata": {
        "id": "iX0u9mLouoPz"
      }
    },
    {
      "cell_type": "code",
      "source": [
        "import numpy as np\n",
        "import pandas as pd\n",
        "import matplotlib.pyplot as plt"
      ],
      "metadata": {
        "id": "YcSmKCShu_R1"
      },
      "execution_count": null,
      "outputs": []
    },
    {
      "cell_type": "markdown",
      "source": [
        "Paso 2. Cargue los datos"
      ],
      "metadata": {
        "id": "Sh4LJQjc5NfP"
      }
    },
    {
      "cell_type": "code",
      "source": [
        "data = pd.read_csv('daily-min-temperatures.csv')\n",
        "print(data.head())"
      ],
      "metadata": {
        "id": "lkw20769vFTX"
      },
      "execution_count": null,
      "outputs": []
    },
    {
      "cell_type": "markdown",
      "source": [
        "Paso 3. Grafiquemos los datos"
      ],
      "metadata": {
        "id": "rZCx3Vlv5TUL"
      }
    },
    {
      "cell_type": "code",
      "source": [
        "x = np.asanyarray(data[['Temp']])\n",
        "plt.plot(x)"
      ],
      "metadata": {
        "id": "LSTwXCt1vLSh"
      },
      "execution_count": null,
      "outputs": []
    },
    {
      "cell_type": "markdown",
      "source": [
        "Paso 4. Investiguemos la correlación entre un dato y su pasdo"
      ],
      "metadata": {
        "id": "wPz--HKV5W5E"
      }
    },
    {
      "cell_type": "code",
      "source": [
        "delay = 1\n",
        "plt.scatter(x[delay:], x[:-delay])\n",
        "print(np.corrcoef(x[delay:].transpose(), x[:-delay].transpose()))"
      ],
      "metadata": {
        "id": "iGUdcRIFvO1z"
      },
      "execution_count": null,
      "outputs": []
    },
    {
      "cell_type": "markdown",
      "source": [
        "Paso 5. Generalizando lo anterior para un número creciente de retardos, obtenemos la gráfica de autocorrelación"
      ],
      "metadata": {
        "id": "YrsV-Rqo50xV"
      }
    },
    {
      "cell_type": "code",
      "source": [
        "from pandas.plotting import autocorrelation_plot\n",
        "autocorrelation_plot(data.Temp)"
      ],
      "metadata": {
        "id": "qdz3Joz5vfN-"
      },
      "execution_count": null,
      "outputs": []
    },
    {
      "cell_type": "markdown",
      "source": [
        "Paso 6. Las series de tiempo necesitan una partición de datos especifica."
      ],
      "metadata": {
        "id": "HXkCWQO35_mP"
      }
    },
    {
      "cell_type": "code",
      "source": [
        "# Calcular número de datos\n",
        "n = data.Temp.shape[0]\n",
        "test_size = 0.1\n",
        "train_set =  data.Temp[:int((1-test_size) * n)]\n",
        "test_set =  data.Temp[-int(test_size* n):]\n",
        "\n",
        "print('Train size: ', train_set.shape)\n",
        "print('Test size: ', test_set.shape)\n",
        "\n",
        "plt.plot(np.arange(0,train_set.shape[0]), train_set, '-b')\n",
        "plt.plot(np.arange(train_set.shape[0],train_set.shape[0]+ test_set.shape[0]),\n",
        "         test_set, '-r')"
      ],
      "metadata": {
        "id": "wECGN95yyJek"
      },
      "execution_count": null,
      "outputs": []
    },
    {
      "cell_type": "markdown",
      "source": [
        "Paso 7. Para poder entrenar fuera de linea podemos expandir el dataset, tomando el autovector y los valores deseados. El siguiente código hace esta expansión"
      ],
      "metadata": {
        "id": "F-qEnGP56G0U"
      }
    },
    {
      "cell_type": "code",
      "source": [
        "def prepare_data(x, delays, steps):\n",
        "  data = pd.DataFrame(x)\n",
        "  for i in range(1, delays + steps):\n",
        "      data = pd.concat([data, x.shift(-i)], axis=1)\n",
        "  data = data[:-(delays + steps)]\n",
        "  x = np.asanyarray(data.iloc[:, 0:delays])\n",
        "  y = np.asanyarray(data.iloc[:, delays:])\n",
        "  return x, y\n",
        "\n",
        "print('Original:\\n', train_set)\n",
        "x, y = prepare_data(train_set, 20, 1)\n",
        "print('x:\\n', x)\n",
        "print('y:\\n', y)"
      ],
      "metadata": {
        "id": "2PzXcSSkviM8"
      },
      "execution_count": null,
      "outputs": []
    },
    {
      "cell_type": "markdown",
      "source": [
        "Paso 8. Entrenemos un modelo de regresión lineal"
      ],
      "metadata": {
        "id": "Yz5pFSSA7EAF"
      }
    },
    {
      "cell_type": "code",
      "source": [
        "from sklearn.model_selection import train_test_split\n",
        "xtrain, xtest, ytrain, ytest = train_test_split(x, y)\n",
        "\n",
        "from sklearn.neural_network import MLPRegressor\n",
        "from sklearn.linear_model import LinearRegression\n",
        "\n",
        "model = LinearRegression()\n",
        "model.fit(xtrain, ytrain.ravel())\n",
        "\n",
        "print('Train: ', model.score(xtrain, ytrain.ravel()))\n",
        "print('Test: ', model.score(xtest, ytest))"
      ],
      "metadata": {
        "id": "RU6hEq2e19ie"
      },
      "execution_count": null,
      "outputs": []
    },
    {
      "cell_type": "markdown",
      "source": [
        "Paso 9. Veamos como se comporta para datos nuevos"
      ],
      "metadata": {
        "id": "u9ekvM2H7ImO"
      }
    },
    {
      "cell_type": "code",
      "source": [
        "x, y = prepare_data(test_set, 20, 1)\n",
        "ypred = model.predict(x)\n",
        "\n",
        "plt.plot(y, '-m')\n",
        "plt.plot(ypred, '-g')\n",
        "print(y.shape)"
      ],
      "metadata": {
        "id": "ov_4fT5M3CKr"
      },
      "execution_count": null,
      "outputs": []
    }
  ]
}