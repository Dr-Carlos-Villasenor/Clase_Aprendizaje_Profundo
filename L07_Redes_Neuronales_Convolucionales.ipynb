{
  "nbformat": 4,
  "nbformat_minor": 0,
  "metadata": {
    "colab": {
      "provenance": [],
      "machine_shape": "hm",
      "include_colab_link": true
    },
    "kernelspec": {
      "name": "python3",
      "display_name": "Python 3"
    }
  },
  "cells": [
    {
      "cell_type": "markdown",
      "metadata": {
        "id": "view-in-github",
        "colab_type": "text"
      },
      "source": [
        "<a href=\"https://colab.research.google.com/github/Dr-Carlos-Villasenor/Clase_Aprendizaje_Profundo/blob/main/L07_Redes_Neuronales_Convolucionales.ipynb\" target=\"_parent\"><img src=\"https://colab.research.google.com/assets/colab-badge.svg\" alt=\"Open In Colab\"/></a>"
      ]
    },
    {
      "cell_type": "markdown",
      "metadata": {
        "id": "WpTU6Fm6VQ-s"
      },
      "source": [
        "# Aprendizaje Profundo\n",
        "## Dr. Carlos Villaseñor\n",
        "### Redes neuronales convolucionales\n",
        "\n"
      ]
    },
    {
      "cell_type": "markdown",
      "metadata": {
        "id": "ngsxf6Dp-Zh8"
      },
      "source": [
        "Primeramente importamos unos paquetes"
      ]
    },
    {
      "cell_type": "code",
      "metadata": {
        "id": "zVop1APMUX5I"
      },
      "source": [
        "# Importamos numpy y matplotlib\n",
        "import numpy as np\n",
        "import matplotlib.pyplot as plt\n",
        "\n",
        "# Importamos lo necesario para crear la red\n",
        "from tensorflow import keras\n",
        "from keras.datasets import mnist\n",
        "from keras.models import Sequential\n",
        "from keras.layers import Dense, Dropout, Flatten\n",
        "from keras.layers import Conv2D, MaxPooling2D\n",
        "from keras import backend\n",
        "\n",
        "# Importamos unos paquetes de sklearn para comprobar el modelo\n",
        "from sklearn.metrics import classification_report, confusion_matrix"
      ],
      "execution_count": null,
      "outputs": []
    },
    {
      "cell_type": "markdown",
      "metadata": {
        "id": "MKSs3Oax-0on"
      },
      "source": [
        "Cargamos el dataset de MNIST"
      ]
    },
    {
      "cell_type": "code",
      "metadata": {
        "id": "Po4byVAcVM0R"
      },
      "source": [
        "(xtrain, ytrain), (xtest, ytest) = mnist.load_data()"
      ],
      "execution_count": null,
      "outputs": []
    },
    {
      "cell_type": "markdown",
      "metadata": {
        "id": "514SgKuu-3qQ"
      },
      "source": [
        "Mostrartemos un ejemplo de manera aleatoria"
      ]
    },
    {
      "cell_type": "code",
      "metadata": {
        "id": "hQVvX4_lWFoe"
      },
      "source": [
        "sample = np.random.randint(0,60000)\n",
        "plt.imshow(xtrain[sample], cmap=plt.cm.gray)\n",
        "plt.title('Label: ' + str(ytrain[sample]))"
      ],
      "execution_count": null,
      "outputs": []
    },
    {
      "cell_type": "code",
      "metadata": {
        "id": "c7FSDURcWjjn"
      },
      "source": [
        "xtrain = xtrain.astype('float32')/255\n",
        "xtest = xtest.astype('float32')/255\n",
        "\n",
        "if backend.image_data_format() == 'channels_first':\n",
        "    xtrain = xtrain.reshape(xtrain.shape[0], 1, 28, 28)\n",
        "    xtest = xtest.reshape(xtest.shape[0], 1, 28, 28)\n",
        "    input_shape = (1, 28, 28)\n",
        "else:\n",
        "    xtrain = xtrain.reshape(xtrain.shape[0], 28, 28, 1)\n",
        "    xtest = xtest.reshape(xtest.shape[0], 28, 28, 1)\n",
        "    input_shape = (28, 28, 1)\n",
        "\n",
        "print(xtrain.shape)\n",
        "print(input_shape)"
      ],
      "execution_count": null,
      "outputs": []
    },
    {
      "cell_type": "code",
      "metadata": {
        "id": "Bvfkzzq6XTlQ"
      },
      "source": [
        "ytrain = keras.utils.to_categorical(ytrain, 10)"
      ],
      "execution_count": null,
      "outputs": []
    },
    {
      "cell_type": "code",
      "metadata": {
        "id": "C2Ef3VekYU2V"
      },
      "source": [
        "def build_model():\n",
        "  model = Sequential()\n",
        "\n",
        "  model.add(Conv2D(32,kernel_size=(3,3),\n",
        "                   activation='relu',\n",
        "                   input_shape=input_shape))\n",
        "  model.add(MaxPooling2D(pool_size=(2,2)))\n",
        "  model.add(Dropout(0.25))\n",
        "\n",
        "  model.add(Conv2D(64, kernel_size=(3,3), activation='relu'))\n",
        "  model.add(MaxPooling2D(pool_size=(2,2)))\n",
        "  model.add(Dropout(0.25))\n",
        "\n",
        "  model.add(Conv2D(128, kernel_size=(3,3), activation='relu'))\n",
        "  model.add(MaxPooling2D(pool_size=(2,2)))\n",
        "  model.add(Dropout(0.25))\n",
        "\n",
        "  model.add(Flatten())\n",
        "  model.add(Dense(128, activation='relu'))\n",
        "  model.add(Dropout(0.5))\n",
        "  model.add(Dense(10, activation='softmax'))\n",
        "\n",
        "  model.compile(loss = keras.losses.categorical_crossentropy,\n",
        "                optimizer = 'adam',\n",
        "                metrics=['accuracy'])\n",
        "  return model"
      ],
      "execution_count": null,
      "outputs": []
    },
    {
      "cell_type": "code",
      "metadata": {
        "id": "Da6Y4I4fA_Hh"
      },
      "source": [
        "model = build_model()\n",
        "model.summary()"
      ],
      "execution_count": null,
      "outputs": []
    },
    {
      "cell_type": "code",
      "metadata": {
        "id": "YKryCRw8aWRX"
      },
      "source": [
        "model.fit(xtrain, ytrain, batch_size=215, epochs=6, verbose=1,\n",
        "          validation_split=0.17)"
      ],
      "execution_count": null,
      "outputs": []
    },
    {
      "cell_type": "code",
      "metadata": {
        "id": "o9FBcoA77BeR"
      },
      "source": [
        "ypred=model.predict(xtest)\n",
        "print('Salida de la red:\\n', ypred[0])\n",
        "\n",
        "ypred = np.argmax(ypred, axis=1)\n",
        "print('Predicciones:\\n', ypred)\n",
        "\n",
        "print('Reporte de clasificación:\\n', classification_report(ytest, ypred))\n",
        "print('Matriz de confusión:\\n', confusion_matrix(ytest, ypred))"
      ],
      "execution_count": null,
      "outputs": []
    },
    {
      "cell_type": "code",
      "metadata": {
        "id": "d8kEVSI9gobE"
      },
      "source": [
        "\n",
        "sample = np.random.randint(0,10000)\n",
        "x = xtest[sample].reshape(28,28)\n",
        "plt.imshow(x, cmap=plt.cm.gray)\n",
        "plt.title('Prediction: ' + str(ypred[sample]))\n",
        "plt.show()"
      ],
      "execution_count": null,
      "outputs": []
    }
  ]
}